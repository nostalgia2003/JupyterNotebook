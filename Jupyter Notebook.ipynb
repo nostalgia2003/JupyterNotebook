{
 "cells": [
  {
   "cell_type": "markdown",
   "id": "e5d2d935",
   "metadata": {},
   "source": [
    "# Data Science Tools and Ecosystem"
   ]
  },
  {
   "cell_type": "markdown",
   "id": "c2ca95f5",
   "metadata": {},
   "source": [
    "In this notebook, Data Science Toold and Ecosystem are summarized. "
   ]
  },
  {
   "cell_type": "markdown",
   "id": "8b5441f5",
   "metadata": {},
   "source": [
    "Some of the popular languages that Data Scientists use are:\n",
    "1. Python\n",
    "2. SQL\n",
    "3. Javascript\n",
    "4. R"
   ]
  },
  {
   "cell_type": "markdown",
   "id": "a1fe7a76",
   "metadata": {},
   "source": [
    "Some of the commonly used libraries used by Data Scientists include:\n",
    "1. Tensorflow\n",
    "2. Matplotlib\n",
    "3. Numpy\n",
    "4. SciPy"
   ]
  },
  {
   "cell_type": "markdown",
   "id": "b366263f",
   "metadata": {},
   "source": [
    "| Data Science Tools |\n",
    "|--------------------|\n",
    "| Git |\n",
    "| Chef |\n",
    "| Appache |\n",
    "\n"
   ]
  },
  {
   "cell_type": "markdown",
   "id": "92495d8f",
   "metadata": {},
   "source": [
    "### Below are a few examples of evaluating arithmetic expressions in Python."
   ]
  },
  {
   "cell_type": "markdown",
   "id": "fa811320",
   "metadata": {},
   "source": [
    "[//]: # \"This is a simple arithmetic expression to multiply then add integers.\""
   ]
  },
  {
   "cell_type": "code",
   "execution_count": 8,
   "id": "e0d23530",
   "metadata": {},
   "outputs": [
    {
     "data": {
      "text/plain": [
       "17"
      ]
     },
     "execution_count": 8,
     "metadata": {},
     "output_type": "execute_result"
    }
   ],
   "source": [
    "(3*4)+5"
   ]
  },
  {
   "cell_type": "markdown",
   "id": "488b997b",
   "metadata": {},
   "source": [
    "[//]: # \"This will convert 200 minutes to hours by dividing by 60.\""
   ]
  },
  {
   "cell_type": "code",
   "execution_count": 9,
   "id": "a6e35a36",
   "metadata": {},
   "outputs": [
    {
     "data": {
      "text/plain": [
       "3.3333333333333335"
      ]
     },
     "execution_count": 9,
     "metadata": {},
     "output_type": "execute_result"
    }
   ],
   "source": [
    "(200/60)"
   ]
  },
  {
   "cell_type": "markdown",
   "id": "198492fa",
   "metadata": {},
   "source": [
    "_Objectives:_\n",
    "- arithmetic integers\n",
    "- cells with a table\n",
    "- how to create a title\n",
    "- List popular languages for Data Science"
   ]
  },
  {
   "cell_type": "markdown",
   "id": "52649871",
   "metadata": {},
   "source": [
    "## Author\n",
    "Tiana Kormos"
   ]
  }
 ],
 "metadata": {
  "kernelspec": {
   "display_name": "Python 3 (ipykernel)",
   "language": "python",
   "name": "python3"
  },
  "language_info": {
   "codemirror_mode": {
    "name": "ipython",
    "version": 3
   },
   "file_extension": ".py",
   "mimetype": "text/x-python",
   "name": "python",
   "nbconvert_exporter": "python",
   "pygments_lexer": "ipython3",
   "version": "3.10.9"
  }
 },
 "nbformat": 4,
 "nbformat_minor": 5
}
